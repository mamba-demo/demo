{
 "cells": [
  {
   "cell_type": "code",
   "execution_count": 1,
   "metadata": {},
   "outputs": [],
   "source": [
    "import cv2\n",
    "import numpy as np\n",
    "import os\n",
    "from tqdm import tqdm\n",
    "\n",
    "def create_stack(ystack, axis, savetodir, downsample_factor, scalebar_microns = 100):\n",
    "    '''\n",
    "    Creates a stack of images along the specified axis, using a source y-stack of images.\n",
    "    Args:\n",
    "        ystack: A list of images (np array) to stack.\n",
    "        axis: The axis along which to stack the images. Can be 'x', 'y', or 'z'.\n",
    "        downsample_factor: Factor by which to downsample the image in all three dimensions. Default is 1 (no downsampling).\n",
    "    '''\n",
    "    # Downsample every image in the source stack\n",
    "    ystack = [cv2.resize(img, (img.shape[1]//downsample_factor, img.shape[0]//downsample_factor)) for img in ystack]\n",
    "\n",
    "    # Delete every downsample_factor image in the source stack\n",
    "    ystack = [img for i, img in enumerate(ystack) if i % downsample_factor == 0]\n",
    "\n",
    "    if axis == 'x':\n",
    "        print('Creating x stack...')\n",
    "        stack = [np.zeros((len(ystack), ystack[0].shape[0], 3), dtype=np.uint8) for _ in range(ystack[0].shape[1])]\n",
    "        for x in tqdm(range(ystack[0].shape[1])):\n",
    "            edges = [img[:, x:x+1, :].reshape(1, img.shape[0], 3) for img in ystack]\n",
    "            for i, edge in enumerate(edges):\n",
    "                stack[x][i:i+1, :, :] = edge\n",
    "            # cv2.putText(stack[x], f'x = {x*downsample_factor}', (10, 30), cv2.FONT_HERSHEY_SIMPLEX, 1, (255, 255, 255), 2, cv2.LINE_AA)\n",
    "\n",
    "    elif axis == 'z':\n",
    "        print('Creating z stack...')\n",
    "        stack = [np.zeros((len(ystack), ystack[0].shape[1], 3), dtype=np.uint8) for _ in range(ystack[0].shape[0])]\n",
    "        for z in tqdm(range(ystack[0].shape[0])):\n",
    "            edges = [img[z:z+1, :, :].reshape(1, img.shape[1], 3) for img in ystack]\n",
    "            for i, edge in enumerate(edges):\n",
    "                stack[z][i:i+1, :, :] = edge\n",
    "            # cv2.putText(stack[z], f'z = {z*downsample_factor}', (10, 30), cv2.FONT_HERSHEY_SIMPLEX, 1, (255, 255, 255), 2, cv2.LINE_AA)\n",
    "\n",
    "    elif axis == 'y':\n",
    "        print('Creating y stack...')\n",
    "        stack = []\n",
    "        for i, img in tqdm(enumerate(ystack), total = len(ystack)):\n",
    "            # cv2.putText(img, f'y = {i*downsample_factor}', (10, 30), cv2.FONT_HERSHEY_SIMPLEX, 1, (255, 255, 255), 2, cv2.LINE_AA)\n",
    "            # Dim the scale bar background\n",
    "            img[-90:-15, -160:-10, :] = img[-90:-15, -160:-10, :] * 0.5\n",
    "            # Add a scale bar to the bottom right corner of the image\n",
    "            img[-80:-70, -135:-35, :] = 255\n",
    "            # Annotate scale bar with length\n",
    "            cv2.putText(img, f'{scalebar_microns} um', (img.shape[1]-150, img.shape[0]-30), cv2.FONT_HERSHEY_SIMPLEX, 1, (255, 255, 255), 2, cv2.LINE_AA)\n",
    "            stack.append(img)\n",
    "    else:\n",
    "        raise Exception('axis must be one of x, y, or z')\n",
    "\n",
    "    os.makedirs(os.path.join(savetodir, axis), exist_ok = True)\n",
    "    for i, img in enumerate(stack):\n",
    "        cv2.imwrite(os.path.join(savetodir, axis, f'{i}.png'), img)"
   ]
  },
  {
   "cell_type": "code",
   "execution_count": 2,
   "metadata": {},
   "outputs": [
    {
     "name": "stdout",
     "output_type": "stream",
     "text": [
      "Creating xyz stacks from 351 images in data/CT_31263/raw/orig...\n",
      "Creating x stack...\n"
     ]
    },
    {
     "name": "stderr",
     "output_type": "stream",
     "text": [
      "100%|██████████| 2200/2200 [01:16<00:00, 28.82it/s]\n"
     ]
    },
    {
     "name": "stdout",
     "output_type": "stream",
     "text": [
      "Creating z stack...\n"
     ]
    },
    {
     "name": "stderr",
     "output_type": "stream",
     "text": [
      "100%|██████████| 1300/1300 [00:13<00:00, 93.57it/s]\n"
     ]
    },
    {
     "name": "stdout",
     "output_type": "stream",
     "text": [
      "Creating y stack...\n"
     ]
    },
    {
     "name": "stderr",
     "output_type": "stream",
     "text": [
      "100%|██████████| 351/351 [00:00<00:00, 2639.16it/s]\n"
     ]
    },
    {
     "name": "stdout",
     "output_type": "stream",
     "text": [
      "Width: 2200\n",
      "Depth: 1300\n",
      "Height: 351\n",
      "Creating xyz stacks from 351 images in data/CT_31263/heatmap/orig...\n",
      "Creating x stack...\n"
     ]
    },
    {
     "name": "stderr",
     "output_type": "stream",
     "text": [
      "100%|██████████| 2200/2200 [00:54<00:00, 40.56it/s]\n"
     ]
    },
    {
     "name": "stdout",
     "output_type": "stream",
     "text": [
      "Creating z stack...\n"
     ]
    },
    {
     "name": "stderr",
     "output_type": "stream",
     "text": [
      "100%|██████████| 1300/1300 [00:08<00:00, 152.16it/s]\n"
     ]
    },
    {
     "name": "stdout",
     "output_type": "stream",
     "text": [
      "Creating y stack...\n"
     ]
    },
    {
     "name": "stderr",
     "output_type": "stream",
     "text": [
      "100%|██████████| 351/351 [00:00<00:00, 3134.07it/s]\n"
     ]
    },
    {
     "name": "stdout",
     "output_type": "stream",
     "text": [
      "Width: 2200\n",
      "Depth: 1300\n",
      "Height: 351\n",
      "Creating xyz stacks from 301 images in data/CT_35357/raw/orig...\n",
      "Creating x stack...\n"
     ]
    },
    {
     "name": "stderr",
     "output_type": "stream",
     "text": [
      "100%|██████████| 1900/1900 [00:34<00:00, 55.56it/s]\n"
     ]
    },
    {
     "name": "stdout",
     "output_type": "stream",
     "text": [
      "Creating z stack...\n"
     ]
    },
    {
     "name": "stderr",
     "output_type": "stream",
     "text": [
      "100%|██████████| 1299/1299 [00:01<00:00, 895.77it/s]\n"
     ]
    },
    {
     "name": "stdout",
     "output_type": "stream",
     "text": [
      "Creating y stack...\n"
     ]
    },
    {
     "name": "stderr",
     "output_type": "stream",
     "text": [
      "100%|██████████| 301/301 [00:00<00:00, 3306.36it/s]\n"
     ]
    },
    {
     "name": "stdout",
     "output_type": "stream",
     "text": [
      "Width: 1900\n",
      "Depth: 1299\n",
      "Height: 301\n",
      "Creating xyz stacks from 301 images in data/CT_35357/heatmap/orig...\n",
      "Creating x stack...\n"
     ]
    },
    {
     "name": "stderr",
     "output_type": "stream",
     "text": [
      "100%|██████████| 1900/1900 [00:37<00:00, 50.30it/s]\n"
     ]
    },
    {
     "name": "stdout",
     "output_type": "stream",
     "text": [
      "Creating z stack...\n"
     ]
    },
    {
     "name": "stderr",
     "output_type": "stream",
     "text": [
      "100%|██████████| 1299/1299 [00:01<00:00, 745.22it/s]\n"
     ]
    },
    {
     "name": "stdout",
     "output_type": "stream",
     "text": [
      "Creating y stack...\n"
     ]
    },
    {
     "name": "stderr",
     "output_type": "stream",
     "text": [
      "100%|██████████| 301/301 [00:00<00:00, 2594.83it/s]\n"
     ]
    },
    {
     "name": "stdout",
     "output_type": "stream",
     "text": [
      "Width: 1900\n",
      "Depth: 1299\n",
      "Height: 301\n",
      "Creating xyz stacks from 201 images in data/CT_38914/raw/orig...\n",
      "Creating x stack...\n"
     ]
    },
    {
     "name": "stderr",
     "output_type": "stream",
     "text": [
      "100%|██████████| 2000/2000 [00:24<00:00, 82.78it/s]\n"
     ]
    },
    {
     "name": "stdout",
     "output_type": "stream",
     "text": [
      "Creating z stack...\n"
     ]
    },
    {
     "name": "stderr",
     "output_type": "stream",
     "text": [
      "100%|██████████| 1249/1249 [00:01<00:00, 798.36it/s]\n"
     ]
    },
    {
     "name": "stdout",
     "output_type": "stream",
     "text": [
      "Creating y stack...\n"
     ]
    },
    {
     "name": "stderr",
     "output_type": "stream",
     "text": [
      "100%|██████████| 201/201 [00:00<00:00, 3191.86it/s]\n"
     ]
    },
    {
     "name": "stdout",
     "output_type": "stream",
     "text": [
      "Width: 2000\n",
      "Depth: 1249\n",
      "Height: 201\n",
      "Creating xyz stacks from 201 images in data/CT_38914/heatmap/orig...\n",
      "Creating x stack...\n"
     ]
    },
    {
     "name": "stderr",
     "output_type": "stream",
     "text": [
      "100%|██████████| 2000/2000 [00:23<00:00, 85.74it/s]\n"
     ]
    },
    {
     "name": "stdout",
     "output_type": "stream",
     "text": [
      "Creating z stack...\n"
     ]
    },
    {
     "name": "stderr",
     "output_type": "stream",
     "text": [
      "100%|██████████| 1249/1249 [00:01<00:00, 1172.76it/s]\n"
     ]
    },
    {
     "name": "stdout",
     "output_type": "stream",
     "text": [
      "Creating y stack...\n"
     ]
    },
    {
     "name": "stderr",
     "output_type": "stream",
     "text": [
      "100%|██████████| 201/201 [00:00<00:00, 2753.39it/s]\n"
     ]
    },
    {
     "name": "stdout",
     "output_type": "stream",
     "text": [
      "Width: 2000\n",
      "Depth: 1249\n",
      "Height: 201\n",
      "Creating xyz stacks from 300 images in data/OTLS_c002/raw/orig...\n",
      "Creating x stack...\n"
     ]
    },
    {
     "name": "stderr",
     "output_type": "stream",
     "text": [
      "100%|██████████| 523/523 [00:42<00:00, 12.17it/s]\n"
     ]
    },
    {
     "name": "stdout",
     "output_type": "stream",
     "text": [
      "Creating z stack...\n"
     ]
    },
    {
     "name": "stderr",
     "output_type": "stream",
     "text": [
      "100%|██████████| 7065/7065 [00:10<00:00, 670.88it/s]\n"
     ]
    },
    {
     "name": "stdout",
     "output_type": "stream",
     "text": [
      "Creating y stack...\n"
     ]
    },
    {
     "name": "stderr",
     "output_type": "stream",
     "text": [
      "100%|██████████| 300/300 [00:00<00:00, 3157.90it/s]\n"
     ]
    },
    {
     "name": "stdout",
     "output_type": "stream",
     "text": [
      "Width: 523\n",
      "Depth: 7065\n",
      "Height: 300\n",
      "Creating xyz stacks from 300 images in data/OTLS_c002/heatmap/orig...\n",
      "Creating x stack...\n"
     ]
    },
    {
     "name": "stderr",
     "output_type": "stream",
     "text": [
      "100%|██████████| 523/523 [00:49<00:00, 10.67it/s]\n"
     ]
    },
    {
     "name": "stdout",
     "output_type": "stream",
     "text": [
      "Creating z stack...\n"
     ]
    },
    {
     "name": "stderr",
     "output_type": "stream",
     "text": [
      "100%|██████████| 7065/7065 [00:10<00:00, 688.06it/s] \n"
     ]
    },
    {
     "name": "stdout",
     "output_type": "stream",
     "text": [
      "Creating y stack...\n"
     ]
    },
    {
     "name": "stderr",
     "output_type": "stream",
     "text": [
      "100%|██████████| 300/300 [00:00<00:00, 2158.28it/s]\n"
     ]
    },
    {
     "name": "stdout",
     "output_type": "stream",
     "text": [
      "Width: 523\n",
      "Depth: 7065\n",
      "Height: 300\n",
      "Creating xyz stacks from 201 images in data/OTLS_c040/raw/orig...\n",
      "Creating x stack...\n"
     ]
    },
    {
     "name": "stderr",
     "output_type": "stream",
     "text": [
      "100%|██████████| 421/421 [00:14<00:00, 28.22it/s]\n"
     ]
    },
    {
     "name": "stdout",
     "output_type": "stream",
     "text": [
      "Creating z stack...\n"
     ]
    },
    {
     "name": "stderr",
     "output_type": "stream",
     "text": [
      "100%|██████████| 5300/5300 [00:02<00:00, 2410.18it/s]\n"
     ]
    },
    {
     "name": "stdout",
     "output_type": "stream",
     "text": [
      "Creating y stack...\n"
     ]
    },
    {
     "name": "stderr",
     "output_type": "stream",
     "text": [
      "100%|██████████| 201/201 [00:00<00:00, 3241.82it/s]\n"
     ]
    },
    {
     "name": "stdout",
     "output_type": "stream",
     "text": [
      "Width: 421\n",
      "Depth: 5300\n",
      "Height: 201\n",
      "Creating xyz stacks from 201 images in data/OTLS_c040/heatmap/orig...\n",
      "Creating x stack...\n"
     ]
    },
    {
     "name": "stderr",
     "output_type": "stream",
     "text": [
      "100%|██████████| 421/421 [00:15<00:00, 26.92it/s]\n"
     ]
    },
    {
     "name": "stdout",
     "output_type": "stream",
     "text": [
      "Creating z stack...\n"
     ]
    },
    {
     "name": "stderr",
     "output_type": "stream",
     "text": [
      "100%|██████████| 5300/5300 [00:02<00:00, 2026.00it/s]\n"
     ]
    },
    {
     "name": "stdout",
     "output_type": "stream",
     "text": [
      "Creating y stack...\n"
     ]
    },
    {
     "name": "stderr",
     "output_type": "stream",
     "text": [
      "100%|██████████| 201/201 [00:00<00:00, 2679.97it/s]\n"
     ]
    },
    {
     "name": "stdout",
     "output_type": "stream",
     "text": [
      "Width: 421\n",
      "Depth: 5300\n",
      "Height: 201\n",
      "Creating xyz stacks from 201 images in data/OTLS_c049/raw/orig...\n",
      "Creating x stack...\n"
     ]
    },
    {
     "name": "stderr",
     "output_type": "stream",
     "text": [
      "100%|██████████| 350/350 [00:13<00:00, 25.46it/s]\n"
     ]
    },
    {
     "name": "stdout",
     "output_type": "stream",
     "text": [
      "Creating z stack...\n"
     ]
    },
    {
     "name": "stderr",
     "output_type": "stream",
     "text": [
      "100%|██████████| 5900/5900 [00:02<00:00, 2147.02it/s]\n"
     ]
    },
    {
     "name": "stdout",
     "output_type": "stream",
     "text": [
      "Creating y stack...\n"
     ]
    },
    {
     "name": "stderr",
     "output_type": "stream",
     "text": [
      "100%|██████████| 201/201 [00:00<00:00, 3190.43it/s]\n"
     ]
    },
    {
     "name": "stdout",
     "output_type": "stream",
     "text": [
      "Width: 350\n",
      "Depth: 5900\n",
      "Height: 201\n",
      "Creating xyz stacks from 201 images in data/OTLS_c049/heatmap/orig...\n",
      "Creating x stack...\n"
     ]
    },
    {
     "name": "stderr",
     "output_type": "stream",
     "text": [
      "100%|██████████| 350/350 [00:14<00:00, 23.73it/s]\n"
     ]
    },
    {
     "name": "stdout",
     "output_type": "stream",
     "text": [
      "Creating z stack...\n"
     ]
    },
    {
     "name": "stderr",
     "output_type": "stream",
     "text": [
      "100%|██████████| 5900/5900 [00:02<00:00, 2293.04it/s]\n"
     ]
    },
    {
     "name": "stdout",
     "output_type": "stream",
     "text": [
      "Creating y stack...\n"
     ]
    },
    {
     "name": "stderr",
     "output_type": "stream",
     "text": [
      "100%|██████████| 201/201 [00:00<00:00, 2753.40it/s]\n"
     ]
    },
    {
     "name": "stdout",
     "output_type": "stream",
     "text": [
      "Width: 350\n",
      "Depth: 5900\n",
      "Height: 201\n"
     ]
    }
   ],
   "source": [
    "import json\n",
    "with open('metadata.json', 'r') as f:\n",
    "    metadata = json.load(f)\n",
    "\n",
    "new_metadata = []\n",
    "for item in metadata:\n",
    "    ID = item['id']\n",
    "\n",
    "    new_item = {\n",
    "                'id': ID,\n",
    "                'metadata': item['metadata'],\n",
    "                'dimensions': {}\n",
    "                }\n",
    "\n",
    "    for mode in ['raw', 'heatmap']:\n",
    "        SOURCE_DIR = f'data/{ID}/{mode}/orig'\n",
    "        DEST_DIR = f'data_hi_res/{ID}/{mode}'\n",
    "        DOWNSAMPLE_FACTOR = 1\n",
    "        if item['metadata']['type'] == 'CT':\n",
    "            SCALEBAR_MICRONS = 400\n",
    "        elif item['metadata']['type'] == 'OTLS':\n",
    "            SCALEBAR_MICRONS = 100\n",
    "        else:\n",
    "            raise Exception(f'Invalid type: {item[\"metadata\"][\"type\"]} not in [\"CT\", \"OTLS\"]')\n",
    "\n",
    "        # Load images\n",
    "        imagepaths = sorted(os.listdir(SOURCE_DIR), key = lambda x: int(x.split('_')[-1].split('.')[0]))  # Sort paths by index\n",
    "        images = [cv2.imread(os.path.join(SOURCE_DIR, f)) for f in imagepaths]\n",
    "        print(f'Creating xyz stacks from {len(images)} images in {SOURCE_DIR}...')\n",
    "\n",
    "        # Create stacks\n",
    "        create_stack(images, 'x', DEST_DIR, DOWNSAMPLE_FACTOR)\n",
    "        create_stack(images, 'z', DEST_DIR, DOWNSAMPLE_FACTOR)\n",
    "        create_stack(images, 'y', DEST_DIR, DOWNSAMPLE_FACTOR, SCALEBAR_MICRONS)\n",
    "\n",
    "        # Print dimensions\n",
    "        print(f'Width: {len(os.listdir(os.path.join(DEST_DIR, \"x\")))}')\n",
    "        print(f'Depth: {len(os.listdir(os.path.join(DEST_DIR, \"z\")))}')\n",
    "        print(f'Height: {len(os.listdir(os.path.join(DEST_DIR, \"y\")))}')\n",
    "\n",
    "    # Add metadata\n",
    "    new_item['dimensions']['x'] = len(os.listdir(os.path.join(DEST_DIR, \"x\")))\n",
    "    new_item['dimensions']['z'] = len(os.listdir(os.path.join(DEST_DIR, \"z\")))\n",
    "    new_item['dimensions']['y'] = len(os.listdir(os.path.join(DEST_DIR, \"y\")))\n",
    "    new_metadata.append(new_item)\n",
    "\n",
    "with open('metadata_hi_res.json', 'w') as f:\n",
    "    json.dump(new_metadata, f, indent = 4)"
   ]
  }
 ],
 "metadata": {
  "kernelspec": {
   "display_name": "_3dpath",
   "language": "python",
   "name": "python3"
  },
  "language_info": {
   "codemirror_mode": {
    "name": "ipython",
    "version": 3
   },
   "file_extension": ".py",
   "mimetype": "text/x-python",
   "name": "python",
   "nbconvert_exporter": "python",
   "pygments_lexer": "ipython3",
   "version": "3.10.7"
  },
  "orig_nbformat": 4
 },
 "nbformat": 4,
 "nbformat_minor": 2
}

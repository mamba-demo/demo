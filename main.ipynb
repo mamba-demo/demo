{
 "cells": [
  {
   "cell_type": "code",
   "execution_count": 1,
   "metadata": {},
   "outputs": [],
   "source": [
    "import cv2\n",
    "import numpy as np\n",
    "import os\n",
    "from tqdm import tqdm\n",
    "\n",
    "def create_stack(ystack, axis, savetodir, downsample_factor, swapxz = False, scalebar_microns = 100):\n",
    "    '''\n",
    "    Creates a stack of images along the specified axis, using a source y-stack of images.\n",
    "    Args:\n",
    "        ystack: A list of images (np array) to stack.\n",
    "        axis: The axis along which to stack the images. Can be 'x', 'y', or 'z'.\n",
    "        downsample_factor: Factor by which to downsample the image in all three dimensions. Default is 1 (no downsampling).\n",
    "        swapxz: Whether to swap the x and z axes. Default is False.\n",
    "    '''\n",
    "    # Downsample every image in the source stack\n",
    "    ystack = [cv2.resize(img, (img.shape[1]//downsample_factor, img.shape[0]//downsample_factor)) for img in ystack]\n",
    "\n",
    "    # Delete every downsample_factor image in the source stack\n",
    "    ystack = [img for i, img in enumerate(ystack) if i % downsample_factor == 0]\n",
    "\n",
    "    if swapxz:\n",
    "        # Swap x and z axes\n",
    "        ystack = [np.swapaxes(img, 0, 1).astype(np.uint8) for img in ystack]\n",
    "\n",
    "    if axis == 'x':\n",
    "        print('Creating x stack...')\n",
    "        stack = [np.zeros((len(ystack), ystack[0].shape[0], 3), dtype=np.uint8) for _ in range(ystack[0].shape[1])]\n",
    "        for x in tqdm(range(ystack[0].shape[1])):\n",
    "            edges = [img[:, x:x+1, :].reshape(1, img.shape[0], 3) for img in ystack]\n",
    "            for i, edge in enumerate(edges):\n",
    "                stack[x][i:i+1, :, :] = edge\n",
    "\n",
    "    elif axis == 'z':\n",
    "        print('Creating z stack...')\n",
    "        stack = [np.zeros((len(ystack), ystack[0].shape[1], 3), dtype=np.uint8) for _ in range(ystack[0].shape[0])]\n",
    "        for z in tqdm(range(ystack[0].shape[0])):\n",
    "            edges = [img[z:z+1, :, :].reshape(1, img.shape[1], 3) for img in ystack]\n",
    "            for i, edge in enumerate(edges):\n",
    "                stack[z][i:i+1, :, :] = edge\n",
    "\n",
    "    elif axis == 'y':\n",
    "        print('Creating y stack...')\n",
    "        stack = []\n",
    "        for i, img in tqdm(enumerate(ystack), total = len(ystack)):\n",
    "            # Dim the scale bar background\n",
    "            img[-90:-15, -160:-10, :] = img[-90:-15, -160:-10, :] * 0.5\n",
    "            # Add a scale bar to the bottom right corner of the image\n",
    "            img[-80:-70, -135:-35, :] = 255\n",
    "            # Annotate scale bar with length\n",
    "            img = img.copy()\n",
    "            cv2.putText(img, f'{scalebar_microns} um', (img.shape[1]-150, img.shape[0]-30), cv2.FONT_HERSHEY_SIMPLEX, 1, (255, 255, 255), 2, cv2.LINE_AA)\n",
    "            stack.append(img)\n",
    "    else:\n",
    "        raise Exception('axis must be one of x, y, or z')\n",
    "\n",
    "    os.makedirs(os.path.join(savetodir, axis), exist_ok = True)\n",
    "    for i, img in enumerate(stack):\n",
    "        cv2.imwrite(os.path.join(savetodir, axis, f'{i}.png'), img)"
   ]
  },
  {
   "cell_type": "code",
   "execution_count": 2,
   "metadata": {},
   "outputs": [
    {
     "name": "stdout",
     "output_type": "stream",
     "text": [
      "Creating xyz stacks from 300 images in data/(OTLS) c002/raw/orig...\n",
      "Creating x stack...\n"
     ]
    },
    {
     "name": "stderr",
     "output_type": "stream",
     "text": [
      "100%|██████████| 7065/7065 [00:25<00:00, 273.67it/s]\n"
     ]
    },
    {
     "name": "stdout",
     "output_type": "stream",
     "text": [
      "Creating z stack...\n"
     ]
    },
    {
     "name": "stderr",
     "output_type": "stream",
     "text": [
      "100%|██████████| 523/523 [00:40<00:00, 12.97it/s]\n"
     ]
    }
   ],
   "source": [
    "for ID in ['(OTLS) c002', '(OTLS) c040', '(OTLS) c049']:\n",
    "    TYPE = 'OTLS'\n",
    "\n",
    "    for mode in ['raw', 'heatmap']:\n",
    "        SOURCE_DIR = f'data/{ID}/{mode}/orig'\n",
    "        DEST_DIR = f'data_hi_res/{ID}/{mode}'\n",
    "        DOWNSAMPLE_FACTOR = 1\n",
    "        if TYPE == 'CT':\n",
    "            SCALEBAR_MICRONS = 400\n",
    "            SWAP_XZ = False\n",
    "        elif TYPE == 'OTLS':\n",
    "            SCALEBAR_MICRONS = 100\n",
    "            SWAP_XZ = True\n",
    "        else:\n",
    "            raise Exception(f'Invalid type: {TYPE} not in [\"CT\", \"OTLS\"]')\n",
    "\n",
    "        # Load images\n",
    "        imagepaths = sorted(os.listdir(SOURCE_DIR), key = lambda x: int(x.split('_')[-1].split('.')[0]))  # Sort paths by index\n",
    "        images = [cv2.imread(os.path.join(SOURCE_DIR, f)) for f in imagepaths]\n",
    "        print(f'Creating xyz stacks from {len(images)} images in {SOURCE_DIR}...')\n",
    "\n",
    "        # Create stacks\n",
    "        create_stack(images, 'x', DEST_DIR, DOWNSAMPLE_FACTOR, SWAP_XZ)\n",
    "        create_stack(images, 'z', DEST_DIR, DOWNSAMPLE_FACTOR, SWAP_XZ)\n",
    "        create_stack(images, 'y', DEST_DIR, DOWNSAMPLE_FACTOR, SWAP_XZ, SCALEBAR_MICRONS)\n",
    "        \n",
    "        # Print dimensions\n",
    "        print(f'Width: {len(os.listdir(os.path.join(DEST_DIR, \"x\")))}')\n",
    "        print(f'Depth: {len(os.listdir(os.path.join(DEST_DIR, \"z\")))}')\n",
    "        print(f'Height: {len(os.listdir(os.path.join(DEST_DIR, \"y\")))}')"
   ]
  }
 ],
 "metadata": {
  "kernelspec": {
   "display_name": "_3dpath",
   "language": "python",
   "name": "python3"
  },
  "language_info": {
   "codemirror_mode": {
    "name": "ipython",
    "version": 3
   },
   "file_extension": ".py",
   "mimetype": "text/x-python",
   "name": "python",
   "nbconvert_exporter": "python",
   "pygments_lexer": "ipython3",
   "version": "3.10.7"
  },
  "orig_nbformat": 4
 },
 "nbformat": 4,
 "nbformat_minor": 2
}
